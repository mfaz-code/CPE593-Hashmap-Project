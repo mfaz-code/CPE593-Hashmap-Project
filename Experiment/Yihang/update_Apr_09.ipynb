{
 "cells": [
  {
   "attachments": {},
   "cell_type": "markdown",
   "metadata": {},
   "source": [
    "## Apr 9 yihang\n",
    "\n",
    "Here are something we can discuss:\n",
    "\n",
    "* END symbols\n",
    "\n",
    "based on following:\n",
    "\n",
    "---\n",
    "\n",
    "this allows from 26 letters and two end symbols END1 and END2 allowing distinguishing between two categories of words. For example, the word \"hello\" could be written\n",
    "\n",
    "h e l l o END1\n",
    "\n",
    "and the word goodbye could be written\n",
    "\n",
    "g o o d b y e END2\n",
    "\n",
    "---\n",
    "\n",
    "what're END symbols stand for? What's the two categories' difference? Will these end symbols included in the dictionary?"
   ]
  },
  {
   "attachments": {},
   "cell_type": "markdown",
   "metadata": {},
   "source": [
    "* Hash function\n",
    "\n",
    "based on the following:\n",
    "\n",
    "---\n",
    "\n",
    "to encode the words using arithmetic encoding, considering that there are 28 unique symbols including the two end symbols, use base 28, encoding each letter as a number from 0 to 25, END1=26 and END2=27.\n",
    "\n",
    "The resulting equation would be ((8 * 28 + 5) * 28 + 12) * 28 ... ending in 26 for the END1 token.\n",
    "\n",
    "---"
   ]
  },
  {
   "cell_type": "code",
   "execution_count": 1,
   "metadata": {},
   "outputs": [
    {
     "ename": "TypeError",
     "evalue": "unsupported operand type(s) for -: 'str' and 'str'",
     "output_type": "error",
     "traceback": [
      "\u001b[0;31m---------------------------------------------------------------------------\u001b[0m",
      "\u001b[0;31mTypeError\u001b[0m                                 Traceback (most recent call last)",
      "Cell \u001b[0;32mIn[1], line 1\u001b[0m\n\u001b[0;32m----> 1\u001b[0m \u001b[39m'\u001b[39;49m\u001b[39mh\u001b[39;49m\u001b[39m'\u001b[39;49m \u001b[39m-\u001b[39;49m \u001b[39m'\u001b[39;49m\u001b[39ma\u001b[39;49m\u001b[39m'\u001b[39;49m\n",
      "\u001b[0;31mTypeError\u001b[0m: unsupported operand type(s) for -: 'str' and 'str'"
     ]
    }
   ],
   "source": [
    "'h' - 'a'"
   ]
  },
  {
   "cell_type": "code",
   "execution_count": 1,
   "metadata": {},
   "outputs": [],
   "source": [
    "# code for this description in python style\n",
    "def encode_word(word):\n",
    "    \n",
    "    # create a mapping from 0 to 27 for letters and 2 ENDs\n",
    "    mapping = {char: idx for idx, char in enumerate('abcdefghijklmnopqrstuvwxyz')}\n",
    "    mapping['END1'] = 26 \n",
    "    mapping['END2'] = 27\n",
    "\n",
    "    encoded = 0\n",
    "    # I think we can use other hash function from paper, if there is a good one\n",
    "    for char in word:\n",
    "        encoded = encoded * 28 + mapping[char]\n",
    "    return encoded"
   ]
  },
  {
   "cell_type": "code",
   "execution_count": 3,
   "metadata": {},
   "outputs": [],
   "source": [
    "def hash_string(string):\n",
    "    hash_value = 5381\n",
    "    for c in string:\n",
    "        hash_value = ((hash_value << 5) + hash_value) + ord(c)\n",
    "    return hash_value"
   ]
  },
  {
   "cell_type": "code",
   "execution_count": 4,
   "metadata": {},
   "outputs": [
    {
     "data": {
      "text/plain": [
       "210676686969"
      ]
     },
     "execution_count": 4,
     "metadata": {},
     "output_type": "execute_result"
    }
   ],
   "source": [
    "hash_string(\"Hello\")"
   ]
  },
  {
   "cell_type": "code",
   "execution_count": 4,
   "metadata": {},
   "outputs": [
    {
     "data": {
      "text/plain": [
       "4399346"
      ]
     },
     "execution_count": 4,
     "metadata": {},
     "output_type": "execute_result"
    }
   ],
   "source": [
    "encode_word(\"hello\")"
   ]
  },
  {
   "attachments": {},
   "cell_type": "markdown",
   "metadata": {},
   "source": [
    "Based on folloing:\n",
    "Read in the dictionary and count the number of elements that start with the letter a. There will be many. Therefore, break down into words starting with aa, ab, ac, etc. Stop breaking down when the number of words is less than k. While this should be programmable, let's consider the number to be 64. This should mean that you identify all words starting with a given prefix, create a hashmap big enough to fit it in the table, then move to the next prefix, build another hashmap."
   ]
  },
  {
   "cell_type": "code",
   "execution_count": 14,
   "metadata": {},
   "outputs": [],
   "source": [
    "example_dictionary_starts_with_a = [\n",
    "    \"abacus\", \"abate\", \"acacia\", \"acorn\", \"adage\", \"adapt\", \"aerial\", \"aegis\",\n",
    "    \"aerate\", \"afar\", \"agate\", \"aghast\", \"ahead\", \"aid\", \"aim\", \"ajar\",\n",
    "    \"akimbo\", \"alas\", \"albatross\", \"album\", \"ale\", \"alibi\", \"all\", \"alloy\",\n",
    "    \"alpaca\", \"altar\", \"amaze\", \"amber\", \"amble\", \"anagram\", \"anchor\", \"android\",\n",
    "    \"anew\", \"angle\", \"anomaly\", \"ant\", \"anvil\", \"aorta\", \"apathy\", \"ape\",\n",
    "    \"aplomb\", \"aqua\", \"arable\", \"arc\", \"ardent\", \"area\", \"argue\", \"arise\",\n",
    "    \"ark\", \"arm\", \"array\", \"asp\", \"aster\", \"atlas\", \"atom\", \"atrium\",\n",
    "    \"avalanche\", \"avocado\", \"awake\", \"axiom\", \"azure\"\n",
    "]"
   ]
  },
  {
   "cell_type": "code",
   "execution_count": 8,
   "metadata": {},
   "outputs": [],
   "source": [
    "def create_prefix_map(words, k=64):\n",
    "    prefix_map = {}\n",
    "    for word in words:\n",
    "        prefix = word[:2]  # take first two letter\n",
    "        if prefix not in prefix_map:\n",
    "            prefix_map[prefix] = []\n",
    "        prefix_map[prefix].append(word)\n",
    "        \n",
    "        # check if this prefix contains more than k elements\n",
    "        if len(prefix_map[prefix]) > k:\n",
    "            new_prefix = word[:3]\n",
    "            if new_prefix not in prefix_map:\n",
    "                prefix_map[new_prefix] = []\n",
    "            prefix_map[new_prefix].append(word)\n",
    "            prefix_map[prefix].remove(word)\n",
    "\n",
    "    return prefix_map"
   ]
  },
  {
   "cell_type": "code",
   "execution_count": 15,
   "metadata": {},
   "outputs": [],
   "source": [
    "prefix_map = create_prefix_map(example_dictionary_starts_with_a, 64)"
   ]
  },
  {
   "cell_type": "code",
   "execution_count": 17,
   "metadata": {},
   "outputs": [
    {
     "name": "stdout",
     "output_type": "stream",
     "text": [
      "['abacus', 'abate']\n",
      "['alas', 'albatross', 'album', 'ale', 'alibi', 'all', 'alloy', 'alpaca', 'altar']\n"
     ]
    }
   ],
   "source": [
    "print(prefix_map['ab'])\n",
    "print(prefix_map['al'])"
   ]
  },
  {
   "cell_type": "code",
   "execution_count": null,
   "metadata": {},
   "outputs": [],
   "source": []
  }
 ],
 "metadata": {
  "kernelspec": {
   "display_name": "circuits",
   "language": "python",
   "name": "python3"
  },
  "language_info": {
   "codemirror_mode": {
    "name": "ipython",
    "version": 3
   },
   "file_extension": ".py",
   "mimetype": "text/x-python",
   "name": "python",
   "nbconvert_exporter": "python",
   "pygments_lexer": "ipython3",
   "version": "3.9.6"
  },
  "orig_nbformat": 4
 },
 "nbformat": 4,
 "nbformat_minor": 2
}
